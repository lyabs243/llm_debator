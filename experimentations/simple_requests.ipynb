{
 "cells": [
  {
   "cell_type": "markdown",
   "id": "e980ccac",
   "metadata": {},
   "source": [
    "## Simple Requests\n",
    "Simple requests tests on each llms that will be used in the debate. "
   ]
  },
  {
   "cell_type": "code",
   "execution_count": null,
   "id": "7a9f3024",
   "metadata": {},
   "outputs": [],
   "source": [
    "# Necessary imports\n",
    "import os\n",
    "from dotenv import load_dotenv\n",
    "\n",
    "from openai import OpenAI\n",
    "from pydantic import BaseModel, Field\n",
    "\n",
    "load_dotenv(override=True)"
   ]
  },
  {
   "cell_type": "markdown",
   "id": "b70008ff",
   "metadata": {},
   "source": [
    "### OpenAI\n",
    "4 OpenAI models will be used:\n",
    "- GPT 4.1 mini `gpt-4.1-mini`\n",
    "- GPT 4.1 `gpt-4.1`\n",
    "- GPT 5 mini `gpt-5-mini`\n",
    "- GPT 5 `gpt-5`"
   ]
  },
  {
   "cell_type": "code",
   "execution_count": null,
   "id": "2fb8a3ad",
   "metadata": {},
   "outputs": [],
   "source": [
    "client = OpenAI()\n",
    "\n",
    "response = client.chat.completions.create(\n",
    "    model=\"gpt-4.1-mini\",\n",
    "    messages=[\n",
    "        {\"role\": \"system\", \"content\": \"You are a helpful assistant.\"},\n",
    "        {\"role\": \"user\", \"content\": \"Hello! How are you today?\"}\n",
    "    ]\n",
    ")\n",
    "\n",
    "print(response.choices[0].message.content)"
   ]
  },
  {
   "cell_type": "code",
   "execution_count": null,
   "id": "e2749ec0",
   "metadata": {},
   "outputs": [],
   "source": [
    "# Test Structured output\n",
    "\n",
    "class ResponseModel(BaseModel):\n",
    "    answer: str = Field(..., description=\"The answer to the user's question.\")\n",
    "    confidence: float = Field(..., description=\"The confidence level of the answer.\")\n",
    "    other_details: str | None = Field(None, description=\"Any other relevant details.\")\n",
    "\n",
    "response = client.chat.completions.parse(\n",
    "    model=\"gpt-4.1-mini\",\n",
    "    messages=[\n",
    "        {\"role\": \"system\", \"content\": \"You are a helpful assistant.\"},\n",
    "        {\"role\": \"user\", \"content\": \"What is the capital of France?\"}\n",
    "    ],\n",
    "    response_format=ResponseModel\n",
    ")\n",
    "\n",
    "result = response.choices[0].message.parsed\n",
    "result"
   ]
  },
  {
   "cell_type": "markdown",
   "id": "73dc7255",
   "metadata": {},
   "source": [
    "### Gemini\n",
    "2 Gemini models will be used:\n",
    "- Gemini 2.5 Flash `gemini-2.5-flash`\n",
    "- Gemini 2.5 Pro `gemini-2.5-pro`"
   ]
  },
  {
   "cell_type": "code",
   "execution_count": null,
   "id": "f31609c9",
   "metadata": {},
   "outputs": [],
   "source": [
    "gemini_api_key = os.getenv(\"GEMINI_API_KEY\")\n",
    "\n",
    "client = OpenAI(\n",
    "    api_key=gemini_api_key,\n",
    "    base_url=\"https://generativelanguage.googleapis.com/v1beta/openai/\"\n",
    ")"
   ]
  },
  {
   "cell_type": "code",
   "execution_count": null,
   "id": "474c3565",
   "metadata": {},
   "outputs": [],
   "source": [
    "response = client.chat.completions.create(\n",
    "    model=\"gemini-2.5-flash\",\n",
    "    messages=[\n",
    "        {\"role\": \"system\", \"content\": \"You are a trolling bot that only responds with sarcastic remarks.\"},\n",
    "        {\"role\": \"user\", \"content\": \"Hello! How are you today?\"}\n",
    "    ],\n",
    "    max_completion_tokens=1024\n",
    ")\n",
    "\n",
    "print(response.choices[0].message.content)"
   ]
  },
  {
   "cell_type": "code",
   "execution_count": null,
   "id": "fdfc8b5f",
   "metadata": {},
   "outputs": [],
   "source": [
    "# Test Structured output with Gemini\n",
    "\n",
    "class CityInfo(BaseModel):\n",
    "    city: str = Field(..., description=\"Name of the city.\")\n",
    "    country: str = Field(..., description=\"Country where the city is located.\")\n",
    "    population: int = Field(..., description=\"Population of the city.\")\n",
    "    interesting_fact: str = Field(..., description=\"An interesting fact about the city.\")\n",
    "\n",
    "response = client.chat.completions.parse(\n",
    "    model=\"gemini-2.5-flash\",\n",
    "    messages=[\n",
    "        {\"role\": \"system\", \"content\": \"You are a knowledgeable assistant.\"},\n",
    "        {\"role\": \"user\", \"content\": \"Provide information about Lubumbashi.\"}\n",
    "    ],\n",
    "    response_format=CityInfo,\n",
    ")\n",
    "\n",
    "result = response.choices[0].message.parsed\n",
    "result"
   ]
  },
  {
   "cell_type": "markdown",
   "id": "73e48e6d",
   "metadata": {},
   "source": [
    "### Open Source\n",
    "Open source models will be provided by Groq. We will use:\n",
    "- Llama 3.1 8B `llama-3.1-8b-instant`\n",
    "- Llama 3.3 70B `llama-3.3-70b-versatile`\n",
    "- GPT-OSS 20B `openai/gpt-oss-20b`\n",
    "- GPT-OSS 120B `openai/gpt-oss-120b`"
   ]
  },
  {
   "cell_type": "code",
   "execution_count": null,
   "id": "b39591f2",
   "metadata": {},
   "outputs": [],
   "source": [
    "groq_api_key = os.getenv(\"GROQ_API_KEY\")\n",
    "\n",
    "client = OpenAI(\n",
    "    api_key=groq_api_key,\n",
    "    base_url=\"https://api.groq.com/openai/v1\"\n",
    ")"
   ]
  },
  {
   "cell_type": "code",
   "execution_count": null,
   "id": "fe420cdf",
   "metadata": {},
   "outputs": [],
   "source": [
    "response = client.chat.completions.create(\n",
    "    model=\"llama-3.1-8b-instant\",\n",
    "    messages=[\n",
    "        {\"role\": \"system\", \"content\": \"You are a helpful assistant.\"},\n",
    "        {\"role\": \"user\", \"content\": \"Hello! How are you today?\"}\n",
    "    ]\n",
    ")\n",
    "\n",
    "print(response.choices[0].message.content)"
   ]
  },
  {
   "cell_type": "code",
   "execution_count": null,
   "id": "bd31f86f",
   "metadata": {},
   "outputs": [],
   "source": [
    "# Test Structured output with Groq\n",
    "class BookInfo(BaseModel):\n",
    "    title: str = Field(..., description=\"Title of the book.\")\n",
    "    author: str = Field(..., description=\"Author of the book.\")\n",
    "    published_year: int = Field(..., description=\"Year the book was published.\")\n",
    "\n",
    "response = client.chat.completions.parse(\n",
    "    model=\"openai/gpt-oss-20b\",\n",
    "    messages=[\n",
    "        {\"role\": \"system\", \"content\": \"You are a helpful assistant.\"},\n",
    "        {\"role\": \"user\", \"content\": \"Provide information about the book '1984' by George Orwell.\"}\n",
    "    ],\n",
    "    response_format=BookInfo,\n",
    ")\n",
    "\n",
    "result = response.choices[0].message.parsed\n",
    "result"
   ]
  },
  {
   "cell_type": "code",
   "execution_count": null,
   "id": "218f69ef",
   "metadata": {},
   "outputs": [],
   "source": []
  }
 ],
 "metadata": {
  "kernelspec": {
   "display_name": "llm_debator",
   "language": "python",
   "name": "python3"
  },
  "language_info": {
   "codemirror_mode": {
    "name": "ipython",
    "version": 3
   },
   "file_extension": ".py",
   "mimetype": "text/x-python",
   "name": "python",
   "nbconvert_exporter": "python",
   "pygments_lexer": "ipython3",
   "version": "3.14.0"
  }
 },
 "nbformat": 4,
 "nbformat_minor": 5
}
